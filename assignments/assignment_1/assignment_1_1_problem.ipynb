{
  "nbformat": 4,
  "nbformat_minor": 0,
  "metadata": {
    "colab": {
      "provenance": [],
      "gpuType": "T4",
      "authorship_tag": "ABX9TyNZlnjxwEvk3c55wg4Zhsm0",
      "include_colab_link": true
    },
    "kernelspec": {
      "name": "python3",
      "display_name": "Python 3"
    },
    "language_info": {
      "name": "python"
    },
    "accelerator": "GPU"
  },
  "cells": [
    {
      "cell_type": "markdown",
      "metadata": {
        "id": "view-in-github",
        "colab_type": "text"
      },
      "source": [
        "<a href=\"https://colab.research.google.com/github/oneoftwo/KAIST_CH453_AI_chemistry/blob/main/assignments/assignment_1/assignment_1_1_problem.ipynb\" target=\"_parent\"><img src=\"https://colab.research.google.com/assets/colab-badge.svg\" alt=\"Open In Colab\"/></a>"
      ]
    },
    {
      "cell_type": "code",
      "source": [
        "import torch\n",
        "import numpy as np\n",
        "\n",
        "# Define the number of data points\n",
        "num_points = 1000\n",
        "\n",
        "# Generate 1000 equally spaced data points in the range [0, pi]\n",
        "x = torch.linspace(0, np.pi, num_points)\n",
        "\n",
        "# Compute the sine of each data point\n",
        "y = torch.sin(x)\n",
        "\n",
        "from torch.utils.data import TensorDataset, DataLoader\n",
        "\n",
        "# Create a TensorDataset from x and y tensors\n",
        "dataset = TensorDataset(x, y)\n",
        "\n",
        "# Define a batch size\n",
        "batch_size = 64\n",
        "\n",
        "# Create a DataLoader for batching and shuffling the dataset\n",
        "train_loader = DataLoader(dataset, batch_size=batch_size, shuffle=True)\n"
      ],
      "metadata": {
        "id": "BJ_q_YOCKFD5"
      },
      "execution_count": 6,
      "outputs": []
    },
    {
      "cell_type": "code",
      "source": [
        "import torch\n",
        "import torch.nn as nn\n",
        "\n",
        "class TwoLayerMLP(nn.Module):\n",
        "    def __init__(self, input_size, hidden_size, output_size):\n",
        "        super(TwoLayerMLP, self).__init__()\n",
        "        # Define the first linear layer\n",
        "        self.linear1 = nn.Linear(input_size, hidden_size)\n",
        "\n",
        "        # Define the second linear layer\n",
        "        self.linear2 = nn.Linear(hidden_size, output_size)\n",
        "\n",
        "        # Define the ReLU activation function\n",
        "        self.relu = nn.ReLU()\n",
        "\n",
        "    def forward(self, x):\n",
        "        # Pass the input through the first linear layer, followed by ReLU activation\n",
        "        x = self.relu(self.linear1(x))\n",
        "\n",
        "        # Pass the result through the second linear layer\n",
        "        x = self.linear2(x)\n",
        "\n",
        "        return x\n",
        "\n",
        "# Define the model with the appropriate input, hidden, and output sizes\n",
        "# For a regression task like y = sin(x), input_size=1, output_size=1\n",
        "input_size = 1\n",
        "hidden_size = 64\n",
        "output_size = 1\n",
        "\n",
        "model = TwoLayerMLP(input_size, hidden_size, output_size)\n",
        "\n",
        "# Print the model architecture\n",
        "print(model)\n"
      ],
      "metadata": {
        "colab": {
          "base_uri": "https://localhost:8080/"
        },
        "id": "rOAJGXznKQkf",
        "outputId": "4980617e-0aa2-44f5-80f8-910c987b974c"
      },
      "execution_count": 7,
      "outputs": [
        {
          "output_type": "stream",
          "name": "stdout",
          "text": [
            "TwoLayerMLP(\n",
            "  (linear1): Linear(in_features=1, out_features=64, bias=True)\n",
            "  (linear2): Linear(in_features=64, out_features=1, bias=True)\n",
            "  (relu): ReLU()\n",
            ")\n"
          ]
        }
      ]
    },
    {
      "cell_type": "code",
      "source": [
        "# Define the Mean Squared Error Loss\n",
        "criterion = nn.MSELoss()\n",
        "\n",
        "# Define the Adam optimizer\n",
        "optimizer = torch.optim.Adam(model.parameters(), lr=0.01)\n",
        "\n",
        "# Define the number of training epochs\n",
        "epochs = 100\n",
        "\n",
        "# Training loop\n",
        "for epoch in range(epochs):\n",
        "    for batch_x, batch_y in train_loader:\n",
        "        # Make sure the input tensor has the correct shape [batch_size, input_size]\n",
        "        batch_x = batch_x.view(-1, 1)\n",
        "\n",
        "        # Forward pass\n",
        "        outputs = model(batch_x)\n",
        "\n",
        "        # Compute the loss\n",
        "        loss = criterion(outputs, batch_y.view(-1, 1))\n",
        "\n",
        "        # Backward pass and optimization\n",
        "        optimizer.zero_grad()\n",
        "        loss.backward()\n",
        "        optimizer.step()\n",
        "\n",
        "    # Print loss for each epoch\n",
        "    if epoch % 10 == 0:\n",
        "        print(f'Epoch [{epoch+1}/{epochs}], Loss: {loss.item():.4f}')\n"
      ],
      "metadata": {
        "colab": {
          "base_uri": "https://localhost:8080/"
        },
        "id": "aRDUHpFTKabV",
        "outputId": "da204160-643e-4377-f321-0447bb6b7015"
      },
      "execution_count": 8,
      "outputs": [
        {
          "output_type": "stream",
          "name": "stdout",
          "text": [
            "Epoch [1/100], Loss: 0.0303\n",
            "Epoch [11/100], Loss: 0.0001\n",
            "Epoch [21/100], Loss: 0.0000\n",
            "Epoch [31/100], Loss: 0.0000\n",
            "Epoch [41/100], Loss: 0.0000\n",
            "Epoch [51/100], Loss: 0.0000\n",
            "Epoch [61/100], Loss: 0.0000\n",
            "Epoch [71/100], Loss: 0.0001\n",
            "Epoch [81/100], Loss: 0.0001\n",
            "Epoch [91/100], Loss: 0.0000\n"
          ]
        }
      ]
    },
    {
      "cell_type": "code",
      "source": [
        "import numpy as np\n",
        "import torch\n",
        "\n",
        "# Generate equally spaced data points in the range [0, 2*pi]\n",
        "x_inference = torch.linspace(0, 2 * np.pi, 1000)\n",
        "\n",
        "# Ensure the input tensor has the correct shape [num_points, input_size]\n",
        "x_inference = x_inference.view(-1, 1)\n",
        "\n",
        "# Move the model to evaluation mode (this is important especially if your model contains layers like dropout)\n",
        "model.eval()\n",
        "\n",
        "# Disable gradient computation for inference\n",
        "with torch.no_grad():\n",
        "    y_pred = model(x_inference)\n",
        "\n",
        "\n",
        "import matplotlib.pyplot as plt\n",
        "\n",
        "# Convert tensors to numpy arrays for plotting\n",
        "x_inference_np = x_inference.numpy().flatten()\n",
        "y_pred_np = y_pred.numpy().flatten()\n",
        "\n",
        "# Plot the original sine curve\n",
        "plt.plot(x_inference_np, np.sin(x_inference_np), label='Original Sine Curve')\n",
        "\n",
        "# Plot the model's predictions\n",
        "plt.plot(x_inference_np, y_pred_np, label='Model Predictions')\n",
        "\n",
        "# Show the legend and display the plot\n",
        "plt.legend()\n",
        "plt.show()\n",
        "\n"
      ],
      "metadata": {
        "colab": {
          "base_uri": "https://localhost:8080/",
          "height": 430
        },
        "id": "57erDATeKlth",
        "outputId": "6dcd5fcf-ed42-47e5-9b5e-85cebad170fa"
      },
      "execution_count": 9,
      "outputs": [
        {
          "output_type": "display_data",
          "data": {
            "text/plain": [
              "<Figure size 640x480 with 1 Axes>"
            ],
            "image/png": "[encoded data removed]"
          },
          "metadata": {}
        }
      ]
    }
  ]
}